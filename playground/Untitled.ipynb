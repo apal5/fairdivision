{
 "cells": [
  {
   "cell_type": "code",
   "execution_count": 1,
   "id": "24011b92",
   "metadata": {},
   "outputs": [],
   "source": [
    "import numpy as np\n",
    "import matplotlib.pyplot as plt"
   ]
  },
  {
   "cell_type": "code",
   "execution_count": 5,
   "id": "8616caef",
   "metadata": {},
   "outputs": [],
   "source": [
    "def generate_positive_dirichlet_instance(m, n, B):\n",
    "    V = list()\n",
    "    for j in range(n):\n",
    "        vals = np.random.dirichlet([10 for i in range(m)])\n",
    "        vals = vals + 0.001\n",
    "        vals = [np.ceil(B*v) for v in vals]\n",
    "        while np.sum(vals) > B:\n",
    "            i = np.random.randint(low=0, high=n)\n",
    "            if vals[i] > 1:\n",
    "                vals[i] = vals[i] - 1\n",
    "        V.append(vals)\n",
    "    V = np.array(V)\n",
    "    return V"
   ]
  },
  {
   "cell_type": "code",
   "execution_count": 10,
   "id": "e9472298",
   "metadata": {},
   "outputs": [
    {
     "name": "stdout",
     "output_type": "stream",
     "text": [
      "[[240. 323. 437.]\n",
      " [321. 243. 436.]]\n"
     ]
    }
   ],
   "source": [
    "print(generate_positive_dirichlet_instance(3,2,1000))"
   ]
  },
  {
   "cell_type": "code",
   "execution_count": null,
   "id": "fdc3d199",
   "metadata": {},
   "outputs": [],
   "source": []
  }
 ],
 "metadata": {
  "kernelspec": {
   "display_name": "Python 3 (ipykernel)",
   "language": "python",
   "name": "python3"
  },
  "language_info": {
   "codemirror_mode": {
    "name": "ipython",
    "version": 3
   },
   "file_extension": ".py",
   "mimetype": "text/x-python",
   "name": "python",
   "nbconvert_exporter": "python",
   "pygments_lexer": "ipython3",
   "version": "3.10.9"
  }
 },
 "nbformat": 4,
 "nbformat_minor": 5
}
