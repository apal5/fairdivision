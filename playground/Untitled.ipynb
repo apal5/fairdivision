{
 "cells": [
  {
   "cell_type": "code",
   "execution_count": 1,
   "id": "3a7c35f9",
   "metadata": {},
   "outputs": [],
   "source": [
    "import numpy as np\n",
    "import matplotlib.pyplot as plt"
   ]
  },
  {
   "cell_type": "code",
   "execution_count": 5,
   "id": "7a75ba40",
   "metadata": {},
   "outputs": [],
   "source": [
    "def generate_positive_dirichlet_instance(m, n, B):\n",
    "    V = list()\n",
    "    for j in range(n):\n",
    "        vals = np.random.dirichlet([10 for i in range(m)])\n",
    "        vals = vals + 0.001\n",
    "        vals = [np.ceil(B*v) for v in vals]\n",
    "        while np.sum(vals) > B:\n",
    "            i = np.random.randint(low=0, high=n)\n",
    "            if vals[i] > 1:\n",
    "                vals[i] = vals[i] - 1\n",
    "        V.append(vals)\n",
    "    V = np.array(V)\n",
    "    return V"
   ]
  },
  {
   "cell_type": "code",
   "execution_count": 6,
   "id": "9dd7305d",
   "metadata": {},
   "outputs": [
    {
     "ename": "IndexError",
     "evalue": "list index out of range",
     "output_type": "error",
     "traceback": [
      "\u001b[0;31m---------------------------------------------------------------------------\u001b[0m",
      "\u001b[0;31mIndexError\u001b[0m                                Traceback (most recent call last)",
      "Cell \u001b[0;32mIn [6], line 1\u001b[0m\n\u001b[0;32m----> 1\u001b[0m \u001b[38;5;28mprint\u001b[39m(generate_positive_dirichlet_instance(\u001b[38;5;241m2\u001b[39m,\u001b[38;5;241m3\u001b[39m,\u001b[38;5;241m1000\u001b[39m))\n",
      "Cell \u001b[0;32mIn [5], line 9\u001b[0m, in \u001b[0;36mgenerate_positive_dirichlet_instance\u001b[0;34m(m, n, B)\u001b[0m\n\u001b[1;32m      7\u001b[0m \u001b[38;5;28;01mwhile\u001b[39;00m np\u001b[38;5;241m.\u001b[39msum(vals) \u001b[38;5;241m>\u001b[39m B:\n\u001b[1;32m      8\u001b[0m     i \u001b[38;5;241m=\u001b[39m np\u001b[38;5;241m.\u001b[39mrandom\u001b[38;5;241m.\u001b[39mrandint(low\u001b[38;5;241m=\u001b[39m\u001b[38;5;241m0\u001b[39m, high\u001b[38;5;241m=\u001b[39mn)\n\u001b[0;32m----> 9\u001b[0m     \u001b[38;5;28;01mif\u001b[39;00m \u001b[43mvals\u001b[49m\u001b[43m[\u001b[49m\u001b[43mi\u001b[49m\u001b[43m]\u001b[49m \u001b[38;5;241m>\u001b[39m \u001b[38;5;241m1\u001b[39m:\n\u001b[1;32m     10\u001b[0m         vals[i] \u001b[38;5;241m=\u001b[39m vals[i] \u001b[38;5;241m-\u001b[39m \u001b[38;5;241m1\u001b[39m\n\u001b[1;32m     11\u001b[0m V\u001b[38;5;241m.\u001b[39mappend(vals)\n",
      "\u001b[0;31mIndexError\u001b[0m: list index out of range"
     ]
    }
   ],
   "source": [
    "print(generate_positive_dirichlet_instance(2,3,1000))"
   ]
  },
  {
   "cell_type": "code",
   "execution_count": 9,
   "id": "8cde5a0a",
   "metadata": {},
   "outputs": [
    {
     "ename": "SyntaxError",
     "evalue": "expected ':' (2788433228.py, line 1)",
     "output_type": "error",
     "traceback": [
      "\u001b[0;36m  Cell \u001b[0;32mIn [9], line 1\u001b[0;36m\u001b[0m\n\u001b[0;31m    for i in range(3)\u001b[0m\n\u001b[0m                     ^\u001b[0m\n\u001b[0;31mSyntaxError\u001b[0m\u001b[0;31m:\u001b[0m expected ':'\n"
     ]
    }
   ],
   "source": [
    "for i in range(3)"
   ]
  },
  {
   "cell_type": "code",
   "execution_count": null,
   "id": "983d367f",
   "metadata": {},
   "outputs": [],
   "source": []
  }
 ],
 "metadata": {
  "kernelspec": {
   "display_name": "Python 3 (ipykernel)",
   "language": "python",
   "name": "python3"
  },
  "language_info": {
   "codemirror_mode": {
    "name": "ipython",
    "version": 3
   },
   "file_extension": ".py",
   "mimetype": "text/x-python",
   "name": "python",
   "nbconvert_exporter": "python",
   "pygments_lexer": "ipython3",
   "version": "3.10.9"
  }
 },
 "nbformat": 4,
 "nbformat_minor": 5
}
